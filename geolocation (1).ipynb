{
  "nbformat": 4,
  "nbformat_minor": 0,
  "metadata": {
    "colab": {
      "provenance": []
    },
    "kernelspec": {
      "name": "python3",
      "display_name": "Python 3"
    },
    "language_info": {
      "name": "python"
    }
  },
  "cells": [
    {
      "cell_type": "code",
      "execution_count": null,
      "metadata": {
        "id": "E9C7pvuwODyY"
      },
      "outputs": [],
      "source": [
        "import pandas as pd\n",
        "data = pd.read_csv('/content/drive/MyDrive/olist/olist_geolocation_dataset.csv')"
      ]
    },
    {
      "cell_type": "code",
      "source": [
        "duplicates = data.duplicated()"
      ],
      "metadata": {
        "id": "ALoEdIG8QiGE"
      },
      "execution_count": null,
      "outputs": []
    },
    {
      "cell_type": "code",
      "source": [
        "total_duplicates = sum(duplicates)"
      ],
      "metadata": {
        "id": "TTyy9J97QrtV"
      },
      "execution_count": null,
      "outputs": []
    },
    {
      "cell_type": "code",
      "source": [
        "print(total_duplicates)"
      ],
      "metadata": {
        "colab": {
          "base_uri": "https://localhost:8080/"
        },
        "id": "A513CG62RZ1J",
        "outputId": "e66cc3d1-9472-427d-9961-0662267febb9"
      },
      "execution_count": null,
      "outputs": [
        {
          "output_type": "stream",
          "name": "stdout",
          "text": [
            "261831\n"
          ]
        }
      ]
    },
    {
      "cell_type": "code",
      "source": [
        "data.drop_duplicates(inplace=True)"
      ],
      "metadata": {
        "id": "OlvOHnCiRtL-"
      },
      "execution_count": null,
      "outputs": []
    },
    {
      "cell_type": "code",
      "source": [
        "duplicates = data.duplicated()\n",
        "total_duplicates = sum(duplicates)\n",
        "print(total_duplicates)"
      ],
      "metadata": {
        "colab": {
          "base_uri": "https://localhost:8080/"
        },
        "id": "ZFDUnfK-SBJW",
        "outputId": "c35f9ef6-30c2-4f77-e026-628d9f395fe9"
      },
      "execution_count": null,
      "outputs": [
        {
          "output_type": "stream",
          "name": "stdout",
          "text": [
            "0\n"
          ]
        }
      ]
    },
    {
      "cell_type": "code",
      "source": [
        "data.to_csv('/content/drive/MyDrive/olist/cleaned data olist/geolocation_edited.csv', index=False)"
      ],
      "metadata": {
        "id": "lYM7Gvz3ShHH"
      },
      "execution_count": null,
      "outputs": []
    }
  ]
}